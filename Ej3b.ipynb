{
 "cells": [
  {
   "cell_type": "code",
   "execution_count": 2087,
   "metadata": {},
   "outputs": [],
   "source": [
    "import random \n",
    "\n",
    "test = 1\n",
    "\n",
    "if test == 0:\n",
    "    lines = [\n",
    "        \"3 6 7 3 1\",\n",
    "        \"0 0 1\",\n",
    "        \"1 1 3\",\n",
    "        \"2 2 1\",\n",
    "        \"1 0 3\",\n",
    "        \"0 2 3\",\n",
    "        \"2 1 1\",\n",
    "    ]\n",
    "elif test == 1:\n",
    "    lines = [\n",
    "        \"3 6 7 3 1\",\n",
    "        \"0 0 3\",\n",
    "        \"1 1 3\",\n",
    "        \"2 2 3\",\n",
    "        \"0 1 3\",\n",
    "        \"1 2 1\",\n",
    "        \"2 0 1\",\n",
    "    ]\n",
    "elif test == 2:\n",
    "    lines = [\n",
    "        \"2 2 7 5 3\",\n",
    "        \"0 0 3\",\n",
    "        \"1 1 5\",   \n",
    "    ]"
   ]
  },
  {
   "cell_type": "code",
   "execution_count": 2088,
   "metadata": {},
   "outputs": [],
   "source": [
    "def main():\n",
    "    return \n",
    "main()\n"
   ]
  },
  {
   "cell_type": "code",
   "execution_count": 2089,
   "metadata": {},
   "outputs": [
    {
     "name": "stdout",
     "output_type": "stream",
     "text": [
      " n = 3\n",
      " m = 6\n",
      " b = 7\n",
      " t = 3\n",
      " c = 1\n",
      " VXC = [[3, 3, -1], [-1, 3, 1], [1, -1, 3]]\n"
     ]
    }
   ],
   "source": [
    "\"\"\" READ LINES \"\"\"\n",
    "# parameters = input()\n",
    "parameters = lines[0]\n",
    "numbers = parameters.split(' ')\n",
    "\n",
    "n = int(numbers[0]) # Volunteer & Cities\n",
    "m = int(numbers[1]) # Preferences\n",
    "b = int(numbers[2]) # Badget\n",
    "t = int(numbers[3]) # Cost Train\n",
    "c = int(numbers[4]) # Cost Car\n",
    "\n",
    "VXC = []\n",
    "for i in range(n): \n",
    "    VXC.append([])\n",
    "    for j in range(n):\n",
    "            VXC[i].append(-1) \n",
    "\n",
    "for idx in range(1,m+1): \n",
    "    # preference = input()\n",
    "    preference = lines[idx]\n",
    "    numbers = preference.split(' ')\n",
    "    i = int(numbers[0])\n",
    "    j = int(numbers[1])\n",
    "    cost = int(numbers[2])\n",
    "    VXC[i][j] = cost\n",
    "\n",
    "print(f\"{ n = }\")\n",
    "print(f\"{ m = }\")\n",
    "print(f\"{ b = }\")\n",
    "print(f\"{ t = }\")\n",
    "print(f\"{ c = }\")\n",
    "print(f\"{ VXC = }\")"
   ]
  },
  {
   "cell_type": "code",
   "execution_count": 2090,
   "metadata": {},
   "outputs": [],
   "source": [
    "\"\"\" INITIAL CHECK \"\"\"\n",
    "if (\n",
    "    (m < n) or \n",
    "    (t* n < b) or \n",
    "    (t % 2 == 0 and c % 2 == 0 and b % 2 == 1)  # t & c even & b odd -> no\n",
    "): \n",
    "    print(\"no\")\n",
    "    #return"
   ]
  },
  {
   "cell_type": "code",
   "execution_count": 2091,
   "metadata": {},
   "outputs": [],
   "source": [
    "def is_prime(num):\n",
    "    if num <= 1:\n",
    "        return False\n",
    "    if num <= 3:\n",
    "        return True  # 2 and 3 are prime\n",
    "    if num % 2 == 0 or num % 3 == 0:\n",
    "        return False\n",
    "    # Check divisors from 5 to sqrt(num)\n",
    "    i = 5\n",
    "    while i * i <= num:\n",
    "        if num % i == 0 or num % (i + 2) == 0:\n",
    "            return False\n",
    "        i += 6\n",
    "    return True\n",
    "\n",
    "def next_prime(n):\n",
    "    candidate = n + 1\n",
    "    while not is_prime(candidate):\n",
    "        candidate += 1\n",
    "    return candidate"
   ]
  },
  {
   "cell_type": "code",
   "execution_count": 2092,
   "metadata": {},
   "outputs": [
    {
     "data": {
      "text/plain": [
       "11"
      ]
     },
     "execution_count": 2092,
     "metadata": {},
     "output_type": "execute_result"
    }
   ],
   "source": [
    "size_max = max(t*n, n*n)\n",
    "size_p = next_prime(size_max)\n",
    "size_p"
   ]
  },
  {
   "cell_type": "code",
   "execution_count": 2093,
   "metadata": {},
   "outputs": [
    {
     "data": {
      "text/plain": [
       "[0, 1, 2, 3, 4, 5, 6, 7, 8, 9, 10]"
      ]
     },
     "execution_count": 2093,
     "metadata": {},
     "output_type": "execute_result"
    }
   ],
   "source": [
    "F = list(range(size_p))\n",
    "F"
   ]
  },
  {
   "cell_type": "code",
   "execution_count": 2094,
   "metadata": {},
   "outputs": [
    {
     "data": {
      "text/plain": [
       "[[5, 10, 2], [0, 8, 9], [2, 3, 1]]"
      ]
     },
     "execution_count": 2094,
     "metadata": {},
     "output_type": "execute_result"
    }
   ],
   "source": [
    "alpha = []\n",
    "for i in range(n): \n",
    "    alpha.append(random.choices(F, k=n))\n",
    "    \n",
    "alpha"
   ]
  },
  {
   "cell_type": "code",
   "execution_count": 2095,
   "metadata": {},
   "outputs": [
    {
     "data": {
      "text/plain": [
       "[2, 7, 3, 10, 0, 1, 9, 8, 4, 5]"
      ]
     },
     "execution_count": 2095,
     "metadata": {},
     "output_type": "execute_result"
    }
   ],
   "source": [
    "Y = random.sample(F, n*t + 1)\n",
    "Y"
   ]
  },
  {
   "cell_type": "code",
   "execution_count": 2096,
   "metadata": {},
   "outputs": [],
   "source": [
    "def compute_h(y, x, n, VXC, p):\n",
    "    H = []\n",
    "\n",
    "    for i in range(n):\n",
    "        H.append([])\n",
    "        for j in range(n):\n",
    "            wij = VXC[i][j]\n",
    "            xij = x[i][j]\n",
    "            if wij == -1:\n",
    "                H[i].append(0)\n",
    "            else: # a -> b\n",
    "                H[i].append(((y**wij) * xij) % p)\n",
    "            \n",
    "    return H\n",
    "                \n",
    "def determinant(matrix):\n",
    "    # Base case: if the matrix is 1x1, return the single element\n",
    "    if len(matrix) == 1:\n",
    "        return matrix[0][0]\n",
    "    \n",
    "    # Base case: if the matrix is 2x2, return ad - bc\n",
    "    if len(matrix) == 2:\n",
    "        return matrix[0][0] * matrix[1][1] - matrix[0][1] * matrix[1][0]\n",
    "\n",
    "    # Recursive case: expand along the first row\n",
    "    det = 0\n",
    "    for col in range(len(matrix)):\n",
    "        # Create a submatrix by excluding the current row and column\n",
    "        submatrix = [row[:col] + row[col+1:] for row in matrix[1:]]\n",
    "        # Add or subtract the determinant of the submatrix\n",
    "        det += ((-1) ** col) * matrix[0][col] * determinant(submatrix)\n",
    "    \n",
    "    return det"
   ]
  },
  {
   "cell_type": "code",
   "execution_count": 2097,
   "metadata": {},
   "outputs": [
    {
     "data": {
      "text/plain": [
       "[5, 8, 10, 0, 0, 0, 6, 1, 3, 1]"
      ]
     },
     "execution_count": 2097,
     "metadata": {},
     "output_type": "execute_result"
    }
   ],
   "source": [
    "s = []\n",
    "for y in Y: \n",
    "    H = compute_h(y, alpha, n, VXC, size_p)\n",
    "    s.append(determinant(H) % size_p)\n",
    "s"
   ]
  },
  {
   "cell_type": "code",
   "execution_count": 2098,
   "metadata": {},
   "outputs": [
    {
     "data": {
      "text/plain": [
       "[[1, 2, 4, 8, 5, 10, 9, 7, 3, 6],\n",
       " [1, 7, 5, 2, 3, 10, 4, 6, 9, 8],\n",
       " [1, 3, 9, 5, 4, 1, 3, 9, 5, 4],\n",
       " [1, 10, 1, 10, 1, 10, 1, 10, 1, 10],\n",
       " [1, 0, 0, 0, 0, 0, 0, 0, 0, 0],\n",
       " [1, 1, 1, 1, 1, 1, 1, 1, 1, 1],\n",
       " [1, 9, 4, 3, 5, 1, 9, 4, 3, 5],\n",
       " [1, 8, 9, 6, 4, 10, 3, 2, 5, 7],\n",
       " [1, 4, 5, 9, 3, 1, 4, 5, 9, 3],\n",
       " [1, 5, 3, 4, 9, 1, 5, 3, 4, 9]]"
      ]
     },
     "execution_count": 2098,
     "metadata": {},
     "output_type": "execute_result"
    }
   ],
   "source": [
    "P = []\n",
    "for j, y in enumerate(Y):\n",
    "    P.append([])\n",
    "    for i in range(len(Y)):\n",
    "        P[j].append((y**i) % size_p)\n",
    "P"
   ]
  },
  {
   "cell_type": "code",
   "execution_count": 2099,
   "metadata": {},
   "outputs": [],
   "source": [
    "def gaussian_elimination(A, b, p):\n",
    "    n = len(b)\n",
    "    # Forward elimination\n",
    "    for i in range(n):\n",
    "        # Pivoting\n",
    "        for j in range(i + 1, n):\n",
    "            factor = A[j][i] / A[i][i]\n",
    "            for k in range(i, n):\n",
    "                A[j][k] -= factor * A[i][k]\n",
    "            b[j] -= factor * b[i]\n",
    "\n",
    "    # Back substitution\n",
    "    x = [0] * n\n",
    "    for i in range(n - 1, -1, -1):\n",
    "        x[i] = (b[i] / A[i][i]) % p\n",
    "        for j in range(i - 1, -1, -1):\n",
    "            b[j] -= A[j][i] * x[i]\n",
    "    return x"
   ]
  },
  {
   "cell_type": "code",
   "execution_count": 2100,
   "metadata": {},
   "outputs": [
    {
     "data": {
      "text/plain": [
       "[7.212658227848124,\n",
       " 2.1037543220957957,\n",
       " 4.780803261426875,\n",
       " 9.886897640580905,\n",
       " 2.947077707487523,\n",
       " 9.823529411764719,\n",
       " 1.8025210084033465,\n",
       " 0.04621848739496822,\n",
       " 0.13865546218487557,\n",
       " 3.0714285714285356]"
      ]
     },
     "execution_count": 2100,
     "metadata": {},
     "output_type": "execute_result"
    }
   ],
   "source": [
    "c = gaussian_elimination(P, s, size_p)\n",
    "c"
   ]
  },
  {
   "cell_type": "code",
   "execution_count": 2101,
   "metadata": {},
   "outputs": [],
   "source": [
    "has = (c[b+1] % size_p) != 0"
   ]
  },
  {
   "cell_type": "code",
   "execution_count": 2102,
   "metadata": {},
   "outputs": [
    {
     "name": "stdout",
     "output_type": "stream",
     "text": [
      "yes\n"
     ]
    }
   ],
   "source": [
    "print(\"yes\" if has else \"no\")"
   ]
  },
  {
   "cell_type": "code",
   "execution_count": 1974,
   "metadata": {},
   "outputs": [],
   "source": [
    "test = 0"
   ]
  }
 ],
 "metadata": {
  "kernelspec": {
   "display_name": "Python 3",
   "language": "python",
   "name": "python3"
  },
  "language_info": {
   "codemirror_mode": {
    "name": "ipython",
    "version": 3
   },
   "file_extension": ".py",
   "mimetype": "text/x-python",
   "name": "python",
   "nbconvert_exporter": "python",
   "pygments_lexer": "ipython3",
   "version": "3.12.4"
  }
 },
 "nbformat": 4,
 "nbformat_minor": 2
}
